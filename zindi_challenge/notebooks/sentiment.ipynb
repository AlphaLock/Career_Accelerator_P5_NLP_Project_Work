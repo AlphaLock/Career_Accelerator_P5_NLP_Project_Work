{
  "nbformat": 4,
  "nbformat_minor": 0,
  "metadata": {
    "colab": {
      "provenance": [],
      "gpuType": "T4"
    },
    "kernelspec": {
      "name": "python3",
      "display_name": "Python 3"
    },
    "language_info": {
      "name": "python"
    },
    "accelerator": "GPU"
  },
  "cells": [
    {
      "cell_type": "markdown",
      "source": [],
      "metadata": {
        "id": "7cvY4e4QunR3"
      }
    },
    {
      "cell_type": "code",
      "execution_count": 1,
      "metadata": {
        "id": "X02VpmmrcXfv",
        "outputId": "0c159ae6-15d1-4a99-ea07-f9274f32a4d0",
        "colab": {
          "base_uri": "https://localhost:8080/"
        }
      },
      "outputs": [
        {
          "output_type": "stream",
          "name": "stdout",
          "text": [
            "Mounted at /content/drive\n"
          ]
        }
      ],
      "source": [
        "#import libraries\n",
        "import pandas as pd\n",
        "\n",
        "#import google drive\n",
        "from google.colab import drive\n",
        "\n",
        "#mount drive\n",
        "drive.mount('/content/drive')\n"
      ]
    },
    {
      "cell_type": "code",
      "source": [
        "#load datasets\n",
        "train = pd.read_csv('/content/drive/My Drive/')"
      ],
      "metadata": {
        "id": "0iORnwIj1Gfx"
      },
      "execution_count": null,
      "outputs": []
    }
  ]
}