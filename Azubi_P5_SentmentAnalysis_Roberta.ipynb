{
  "cells": [
    {
      "cell_type": "markdown",
      "metadata": {
        "id": "view-in-github",
        "colab_type": "text"
      },
      "source": [
        "<a href=\"https://colab.research.google.com/github/AlphaLock/Career_Accelerator_P5_NLP_Project_Work/blob/main/Azubi_P5_SentmentAnalysis_Roberta.ipynb\" target=\"_parent\"><img src=\"https://colab.research.google.com/assets/colab-badge.svg\" alt=\"Open In Colab\"/></a>"
      ]
    },
    {
      "cell_type": "markdown",
      "id": "7633342d",
      "metadata": {
        "id": "7633342d"
      },
      "source": [
        "#Sentiment Analysis"
      ]
    },
    {
      "cell_type": "code",
      "source": [
        "#setup\n",
        "!pip install accelerate -U\n",
        "!pip install datasets\n",
        "!pip install huggingface-hub\n",
        "!pip install datasets-cli\n",
        "!pip install transformers\n",
        "!pip install transformers[touch]\n",
        "!pip install transformers[torch] accelerate>=0.20.1\n",
        "!pip install --upgrade transformers accelerate\n",
        "!pip install --upgrade transformers\n",
        "!pip install accelerate -U\n",
        "!pip install --upgrade torch\n",
        "!pip install --upgrade accelerate --upgrade\n",
        "!pip install git+https://github.com/huggingface/accelerate"
      ],
      "metadata": {
        "id": "cnYa9EX_zVpZ"
      },
      "id": "cnYa9EX_zVpZ",
      "execution_count": null,
      "outputs": []
    },
    {
      "cell_type": "code",
      "execution_count": null,
      "id": "12bf38fa",
      "metadata": {
        "id": "12bf38fa"
      },
      "outputs": [],
      "source": [
        "import gradio as gr\n",
        "\n",
        "import nltk\n",
        "from nltk.sentiment.vader import SentimentIntensityAnalyzer\n",
        "from wordcloud import WordCloud\n",
        "from nltk.tokenize import word_tokenize\n",
        "from collections import Counter\n",
        "\n",
        "# linear algebra\n",
        "import numpy as np\n",
        "\n",
        "# data processing\n",
        "import pandas as pd\n",
        "\n",
        "# For creating plots\n",
        "import seaborn as sns\n",
        "\n",
        "# For specifying the axes tick format\n",
        "import matplotlib.ticker as mtick\n",
        "import matplotlib.pyplot as plt\n",
        "\n",
        "sns.set(style = 'white')\n",
        "\n",
        "\n",
        "import os\n",
        "from sklearn import preprocessing\n",
        "\n",
        "#data split\n",
        "from sklearn.model_selection import train_test_split\n",
        "from sklearn.preprocessing import MinMaxScaler\n",
        "\n",
        "\n",
        "#Evaluation Metrics\n",
        "from sklearn import metrics\n",
        "from sklearn.metrics import classification_report, confusion_matrix\n",
        "from sklearn.metrics import accuracy_score\n",
        "\n",
        "import warnings\n",
        "warnings.filterwarnings('ignore')"
      ]
    },
    {
      "cell_type": "markdown",
      "id": "bbbc4110",
      "metadata": {
        "id": "bbbc4110"
      },
      "source": [
        "## Import Dataset"
      ]
    },
    {
      "cell_type": "code",
      "execution_count": null,
      "id": "a4d20165",
      "metadata": {
        "id": "a4d20165"
      },
      "outputs": [],
      "source": [
        "# Load the train and test datasets\n",
        "train_data = pd.read_csv(\"Train.csv\")\n",
        "test_data = pd.read_csv(\"Test.csv\")"
      ]
    },
    {
      "cell_type": "code",
      "execution_count": null,
      "id": "9df21dd3",
      "metadata": {
        "id": "9df21dd3",
        "outputId": "ddbed3ef-37d3-46c3-e716-c5a74cdfdf6c"
      },
      "outputs": [
        {
          "data": {
            "text/html": [
              "<div>\n",
              "<style scoped>\n",
              "    .dataframe tbody tr th:only-of-type {\n",
              "        vertical-align: middle;\n",
              "    }\n",
              "\n",
              "    .dataframe tbody tr th {\n",
              "        vertical-align: top;\n",
              "    }\n",
              "\n",
              "    .dataframe thead th {\n",
              "        text-align: right;\n",
              "    }\n",
              "</style>\n",
              "<table border=\"1\" class=\"dataframe\">\n",
              "  <thead>\n",
              "    <tr style=\"text-align: right;\">\n",
              "      <th></th>\n",
              "      <th>tweet_id</th>\n",
              "      <th>safe_text</th>\n",
              "      <th>label</th>\n",
              "      <th>agreement</th>\n",
              "    </tr>\n",
              "  </thead>\n",
              "  <tbody>\n",
              "    <tr>\n",
              "      <th>0</th>\n",
              "      <td>CL1KWCMY</td>\n",
              "      <td>Me &amp;amp; The Big Homie meanboy3000 #MEANBOY #M...</td>\n",
              "      <td>0.0</td>\n",
              "      <td>1.0</td>\n",
              "    </tr>\n",
              "    <tr>\n",
              "      <th>1</th>\n",
              "      <td>E3303EME</td>\n",
              "      <td>I'm 100% thinking of devoting my career to pro...</td>\n",
              "      <td>1.0</td>\n",
              "      <td>1.0</td>\n",
              "    </tr>\n",
              "    <tr>\n",
              "      <th>2</th>\n",
              "      <td>M4IVFSMS</td>\n",
              "      <td>#whatcausesautism VACCINES, DO NOT VACCINATE Y...</td>\n",
              "      <td>-1.0</td>\n",
              "      <td>1.0</td>\n",
              "    </tr>\n",
              "    <tr>\n",
              "      <th>3</th>\n",
              "      <td>1DR6ROZ4</td>\n",
              "      <td>I mean if they immunize my kid with something ...</td>\n",
              "      <td>-1.0</td>\n",
              "      <td>1.0</td>\n",
              "    </tr>\n",
              "    <tr>\n",
              "      <th>4</th>\n",
              "      <td>J77ENIIE</td>\n",
              "      <td>Thanks to &lt;user&gt; Catch me performing at La Nui...</td>\n",
              "      <td>0.0</td>\n",
              "      <td>1.0</td>\n",
              "    </tr>\n",
              "  </tbody>\n",
              "</table>\n",
              "</div>"
            ],
            "text/plain": [
              "   tweet_id                                          safe_text  label  \\\n",
              "0  CL1KWCMY  Me &amp; The Big Homie meanboy3000 #MEANBOY #M...    0.0   \n",
              "1  E3303EME  I'm 100% thinking of devoting my career to pro...    1.0   \n",
              "2  M4IVFSMS  #whatcausesautism VACCINES, DO NOT VACCINATE Y...   -1.0   \n",
              "3  1DR6ROZ4  I mean if they immunize my kid with something ...   -1.0   \n",
              "4  J77ENIIE  Thanks to <user> Catch me performing at La Nui...    0.0   \n",
              "\n",
              "   agreement  \n",
              "0        1.0  \n",
              "1        1.0  \n",
              "2        1.0  \n",
              "3        1.0  \n",
              "4        1.0  "
            ]
          },
          "execution_count": 8,
          "metadata": {},
          "output_type": "execute_result"
        }
      ],
      "source": [
        "train_data.head()"
      ]
    },
    {
      "cell_type": "code",
      "execution_count": null,
      "id": "f046f2b0",
      "metadata": {
        "id": "f046f2b0",
        "outputId": "10916cd7-c2a9-4ee6-bd21-5d1cbbd4a2b0"
      },
      "outputs": [
        {
          "name": "stdout",
          "output_type": "stream",
          "text": [
            "<class 'pandas.core.frame.DataFrame'>\n",
            "RangeIndex: 10001 entries, 0 to 10000\n",
            "Data columns (total 4 columns):\n",
            " #   Column     Non-Null Count  Dtype  \n",
            "---  ------     --------------  -----  \n",
            " 0   tweet_id   10001 non-null  object \n",
            " 1   safe_text  10001 non-null  object \n",
            " 2   label      10000 non-null  float64\n",
            " 3   agreement  9999 non-null   float64\n",
            "dtypes: float64(2), object(2)\n",
            "memory usage: 312.7+ KB\n"
          ]
        }
      ],
      "source": [
        "train_data.info()"
      ]
    },
    {
      "cell_type": "code",
      "execution_count": null,
      "id": "17387d24",
      "metadata": {
        "id": "17387d24",
        "outputId": "d59a42fc-ed46-49da-a8a9-0d64d8d67e25"
      },
      "outputs": [
        {
          "data": {
            "text/plain": [
              "(10001, 4)"
            ]
          },
          "execution_count": 10,
          "metadata": {},
          "output_type": "execute_result"
        }
      ],
      "source": [
        "train_data.shape"
      ]
    },
    {
      "cell_type": "markdown",
      "id": "578e0d34",
      "metadata": {
        "id": "578e0d34"
      },
      "source": [
        "## Data Cleaning"
      ]
    },
    {
      "cell_type": "markdown",
      "id": "a394fb0f",
      "metadata": {
        "id": "a394fb0f"
      },
      "source": [
        "Let's explore the data to see if there are any missing values"
      ]
    },
    {
      "cell_type": "code",
      "execution_count": null,
      "id": "5d862f81",
      "metadata": {
        "id": "5d862f81",
        "outputId": "56a2ee4b-32e6-417e-adbd-680c21397c95"
      },
      "outputs": [
        {
          "data": {
            "text/plain": [
              "tweet_id      object\n",
              "safe_text     object\n",
              "label        float64\n",
              "agreement    float64\n",
              "dtype: object"
            ]
          },
          "execution_count": 11,
          "metadata": {},
          "output_type": "execute_result"
        }
      ],
      "source": [
        "train_data.dtypes"
      ]
    },
    {
      "cell_type": "markdown",
      "id": "7c2fb1bf",
      "metadata": {
        "id": "7c2fb1bf"
      },
      "source": [
        "## Check for missing values"
      ]
    },
    {
      "cell_type": "code",
      "execution_count": null,
      "id": "0fbbf00b",
      "metadata": {
        "id": "0fbbf00b",
        "outputId": "8cd7d75f-9fc1-4070-bc0b-29a0f1042ce9"
      },
      "outputs": [
        {
          "data": {
            "text/plain": [
              "tweet_id     0\n",
              "safe_text    0\n",
              "label        1\n",
              "agreement    2\n",
              "dtype: int64"
            ]
          },
          "execution_count": 12,
          "metadata": {},
          "output_type": "execute_result"
        }
      ],
      "source": [
        "train_data.isnull().sum()"
      ]
    },
    {
      "cell_type": "markdown",
      "id": "eab49bea",
      "metadata": {
        "id": "eab49bea"
      },
      "source": [
        "## Remove missing values"
      ]
    },
    {
      "cell_type": "code",
      "execution_count": null,
      "id": "019dd8dd",
      "metadata": {
        "id": "019dd8dd"
      },
      "outputs": [],
      "source": [
        "#Removing missing values\n",
        "train_data.dropna(inplace = True)"
      ]
    },
    {
      "cell_type": "code",
      "execution_count": null,
      "id": "c3e4ecaf",
      "metadata": {
        "id": "c3e4ecaf",
        "outputId": "8bcd318f-92c8-4f09-b22d-ea30feec1dc4"
      },
      "outputs": [
        {
          "data": {
            "text/plain": [
              "tweet_id     0\n",
              "safe_text    0\n",
              "label        0\n",
              "agreement    0\n",
              "dtype: int64"
            ]
          },
          "execution_count": 14,
          "metadata": {},
          "output_type": "execute_result"
        }
      ],
      "source": [
        "train_data.isnull().sum()"
      ]
    },
    {
      "cell_type": "markdown",
      "id": "64e4b6d7",
      "metadata": {
        "id": "64e4b6d7"
      },
      "source": [
        "## Removing Tweet ID"
      ]
    },
    {
      "cell_type": "code",
      "execution_count": null,
      "id": "5a8e9659",
      "metadata": {
        "id": "5a8e9659"
      },
      "outputs": [],
      "source": [
        "# Drop customer IDs\n",
        "train_data = train_data .iloc[:,1:]"
      ]
    },
    {
      "cell_type": "code",
      "execution_count": null,
      "id": "457d2f66",
      "metadata": {
        "id": "457d2f66",
        "outputId": "48181705-481b-49b6-ea49-23cf4c1fffca"
      },
      "outputs": [
        {
          "data": {
            "text/html": [
              "<div>\n",
              "<style scoped>\n",
              "    .dataframe tbody tr th:only-of-type {\n",
              "        vertical-align: middle;\n",
              "    }\n",
              "\n",
              "    .dataframe tbody tr th {\n",
              "        vertical-align: top;\n",
              "    }\n",
              "\n",
              "    .dataframe thead th {\n",
              "        text-align: right;\n",
              "    }\n",
              "</style>\n",
              "<table border=\"1\" class=\"dataframe\">\n",
              "  <thead>\n",
              "    <tr style=\"text-align: right;\">\n",
              "      <th></th>\n",
              "      <th>safe_text</th>\n",
              "      <th>label</th>\n",
              "      <th>agreement</th>\n",
              "    </tr>\n",
              "  </thead>\n",
              "  <tbody>\n",
              "    <tr>\n",
              "      <th>0</th>\n",
              "      <td>Me &amp;amp; The Big Homie meanboy3000 #MEANBOY #M...</td>\n",
              "      <td>0.0</td>\n",
              "      <td>1.0</td>\n",
              "    </tr>\n",
              "    <tr>\n",
              "      <th>1</th>\n",
              "      <td>I'm 100% thinking of devoting my career to pro...</td>\n",
              "      <td>1.0</td>\n",
              "      <td>1.0</td>\n",
              "    </tr>\n",
              "    <tr>\n",
              "      <th>2</th>\n",
              "      <td>#whatcausesautism VACCINES, DO NOT VACCINATE Y...</td>\n",
              "      <td>-1.0</td>\n",
              "      <td>1.0</td>\n",
              "    </tr>\n",
              "    <tr>\n",
              "      <th>3</th>\n",
              "      <td>I mean if they immunize my kid with something ...</td>\n",
              "      <td>-1.0</td>\n",
              "      <td>1.0</td>\n",
              "    </tr>\n",
              "    <tr>\n",
              "      <th>4</th>\n",
              "      <td>Thanks to &lt;user&gt; Catch me performing at La Nui...</td>\n",
              "      <td>0.0</td>\n",
              "      <td>1.0</td>\n",
              "    </tr>\n",
              "  </tbody>\n",
              "</table>\n",
              "</div>"
            ],
            "text/plain": [
              "                                           safe_text  label  agreement\n",
              "0  Me &amp; The Big Homie meanboy3000 #MEANBOY #M...    0.0        1.0\n",
              "1  I'm 100% thinking of devoting my career to pro...    1.0        1.0\n",
              "2  #whatcausesautism VACCINES, DO NOT VACCINATE Y...   -1.0        1.0\n",
              "3  I mean if they immunize my kid with something ...   -1.0        1.0\n",
              "4  Thanks to <user> Catch me performing at La Nui...    0.0        1.0"
            ]
          },
          "execution_count": 16,
          "metadata": {},
          "output_type": "execute_result"
        }
      ],
      "source": [
        "train_data.head()"
      ]
    },
    {
      "cell_type": "markdown",
      "id": "32aff689",
      "metadata": {
        "id": "32aff689"
      },
      "source": [
        "# Exploratory Data Analysis"
      ]
    },
    {
      "cell_type": "markdown",
      "id": "b2f1a063",
      "metadata": {
        "id": "b2f1a063"
      },
      "source": [
        "# Deep dive into the tweets column"
      ]
    },
    {
      "cell_type": "code",
      "execution_count": null,
      "id": "2d6abef4",
      "metadata": {
        "id": "2d6abef4",
        "outputId": "551b71a4-ef26-4d7d-bd9a-f57fb2c656df"
      },
      "outputs": [
        {
          "data": {
            "image/png": "[encoded data removed]",
            "text/plain": [
              "<Figure size 360x360 with 1 Axes>"
            ]
          },
          "metadata": {},
          "output_type": "display_data"
        }
      ],
      "source": [
        "ax = (train_data['label'].value_counts()*100.0 /len(train_data))\\\n",
        ".plot.pie(autopct='%.1f%%', labels = ['Neutral', 'Positive', 'Negative'],figsize =(5,5), fontsize = 12 )\n",
        "ax.yaxis.set_major_formatter(mtick.PercentFormatter())\n",
        "ax.set_ylabel('',fontsize = 12)\n",
        "ax.set_title('Distribution of tweet', fontsize = 12)\n",
        "\n",
        "plt.show()"
      ]
    },
    {
      "cell_type": "markdown",
      "id": "b1a195a3",
      "metadata": {
        "id": "b1a195a3"
      },
      "source": [
        "# Deep dive into the agreement column"
      ]
    },
    {
      "cell_type": "code",
      "execution_count": null,
      "id": "4afa185d",
      "metadata": {
        "id": "4afa185d",
        "outputId": "3a046421-b155-4246-f0d8-e518b8b4f35f"
      },
      "outputs": [
        {
          "data": {
            "image/png": "[encoded data removed]",
            "text/plain": [
              "<Figure size 432x288 with 1 Axes>"
            ]
          },
          "metadata": {},
          "output_type": "display_data"
        }
      ],
      "source": [
        "ax = train_data['agreement'].value_counts().plot(kind = 'bar',rot = 45, width = 0.3)\n",
        "ax.set_ylabel('Agreement')\n",
        "ax.set_title('Agreement Distribution')\n",
        "\n",
        "plt.show()"
      ]
    },
    {
      "cell_type": "markdown",
      "id": "04b97698",
      "metadata": {
        "id": "04b97698"
      },
      "source": [
        "## Works on the roberta model"
      ]
    },
    {
      "cell_type": "code",
      "execution_count": null,
      "id": "cf520d06",
      "metadata": {
        "id": "cf520d06"
      },
      "outputs": [],
      "source": [
        "Train, eval = train_test_split(Train, test_size=0.2, random_state=42, stratify= Train['label'])"
      ]
    },
    {
      "cell_type": "code",
      "execution_count": null,
      "id": "2c2225c3",
      "metadata": {
        "id": "2c2225c3"
      },
      "outputs": [],
      "source": [
        "print(f\"new dataframe shapes: train is {Train.shape}, eval is {eval.shape}\")"
      ]
    },
    {
      "cell_type": "code",
      "execution_count": null,
      "id": "6f54c45a",
      "metadata": {
        "id": "6f54c45a"
      },
      "outputs": [],
      "source": [
        "# Save splitted subsets\n",
        "Train.to_csv(\"/content/drive/MyDrive/Azubi/Train.csv\", index=False)\n",
        "eval.to_csv(\"/content/drive/MyDrive/Azubi/Test.csv\", index=False)\n",
        "\n",
        "dataset = load_dataset('csv',\n",
        "                        data_files={'Train': \"/content/drive/MyDrive/Azubi/Train.csv\",\n",
        "                        'eval': \"/content/drive/MyDrive/Azubi/Train.csv\"}, encoding = \"ISO-8859-1\")"
      ]
    },
    {
      "cell_type": "code",
      "execution_count": null,
      "id": "7e9097b4",
      "metadata": {
        "id": "7e9097b4"
      },
      "outputs": [],
      "source": [
        "# Instantiate the tokenizer\n",
        "tokenizer = AutoTokenizer.from_pretrained(\"cardiffnlp/twitter-roberta-base-sentiment\", num_labels=3)"
      ]
    },
    {
      "cell_type": "code",
      "execution_count": null,
      "id": "6818c68e",
      "metadata": {
        "id": "6818c68e"
      },
      "outputs": [],
      "source": [
        "## Function to transform labels\n",
        "def transform_labels(label):\n",
        "\n",
        "    label = label['label']\n",
        "    num = 0\n",
        "    if label == -1: #'Negative'\n",
        "        num = 0\n",
        "    elif label == 0: #'Neutral'\n",
        "        num = 1\n",
        "    elif label == 1: #'Positive'\n",
        "        num = 2\n",
        "\n",
        "    return {'labels': num}"
      ]
    },
    {
      "cell_type": "code",
      "execution_count": null,
      "id": "940828df",
      "metadata": {
        "id": "940828df"
      },
      "outputs": [],
      "source": [
        "## Function to tokenize data\n",
        "def tokenize_data(example):\n",
        "    return tokenizer(example['safe_text'], padding='max_length',truncation=True, max_length = 256)"
      ]
    },
    {
      "cell_type": "code",
      "execution_count": null,
      "id": "7498615d",
      "metadata": {
        "id": "7498615d"
      },
      "outputs": [],
      "source": [
        "# Tokenize the tweets\n",
        "dataset = dataset.map(tokenize_data, batched=True)"
      ]
    },
    {
      "cell_type": "code",
      "execution_count": null,
      "id": "efa4a77b",
      "metadata": {
        "id": "efa4a77b"
      },
      "outputs": [],
      "source": [
        "# Transform\tlabels and limit the columns\n",
        "remove_columns = ['tweet_id', 'label', 'safe_text', 'agreement']\n",
        "dataset = dataset.map(transform_labels, remove_columns=remove_columns)"
      ]
    },
    {
      "cell_type": "code",
      "execution_count": null,
      "id": "da02533f",
      "metadata": {
        "id": "da02533f"
      },
      "outputs": [],
      "source": []
    },
    {
      "cell_type": "code",
      "execution_count": null,
      "id": "7820ba30",
      "metadata": {
        "id": "7820ba30"
      },
      "outputs": [],
      "source": []
    },
    {
      "cell_type": "code",
      "execution_count": null,
      "id": "823c0309",
      "metadata": {
        "id": "823c0309"
      },
      "outputs": [],
      "source": [
        "pip show accelerate"
      ]
    },
    {
      "cell_type": "code",
      "execution_count": null,
      "id": "952606f0",
      "metadata": {
        "id": "952606f0"
      },
      "outputs": [],
      "source": [
        "# Define training arguments\n",
        "training_args = TrainingArguments(\n",
        "    \"covid_tweets_sentiment_analysis_model\",\n",
        "    num_train_epochs=4,\n",
        "    load_best_model_at_end=True,\n",
        "    evaluation_strategy=\"epoch\",\n",
        "    save_strategy=\"epoch\"\n",
        "    )"
      ]
    },
    {
      "cell_type": "code",
      "execution_count": null,
      "id": "6d9eba15",
      "metadata": {
        "id": "6d9eba15"
      },
      "outputs": [],
      "source": [
        "# Load the pretrained model\n",
        "from transformers import AutoModelForSequenceClassification\n",
        "model = AutoModelForSequenceClassification.from_pretrained(\"cardiffnlp/twitter-roberta-base-sentiment\", num_labels=3)"
      ]
    },
    {
      "cell_type": "code",
      "execution_count": null,
      "id": "2239291e",
      "metadata": {
        "id": "2239291e"
      },
      "outputs": [],
      "source": [
        "# Define evaluation metrics\n",
        "metric = load_metric(\"accuracy\")\n",
        "\n",
        "def compute_metrics(eval_pred):\n",
        "    logits, labels = eval_pred\n",
        "    predictions = np.argmax(logits, axis=-1)\n",
        "    return metric.compute(predictions=predictions, references=labels)"
      ]
    },
    {
      "cell_type": "code",
      "execution_count": null,
      "id": "97121a47",
      "metadata": {
        "id": "97121a47"
      },
      "outputs": [],
      "source": [
        "# Instantiate the training and evaluation sets\n",
        "train_dataset = dataset[\"Train\"].shuffle(seed=24)\n",
        "eval_dataset = dataset[\"eval\"].shuffle(seed=24)"
      ]
    },
    {
      "cell_type": "code",
      "execution_count": null,
      "id": "f70a2e69",
      "metadata": {
        "id": "f70a2e69"
      },
      "outputs": [],
      "source": [
        "#converting training data to PyTorch tensors to speed up training and adding padding:\n",
        "from transformers import DataCollatorWithPadding\n",
        "data_collator = DataCollatorWithPadding(tokenizer=tokenizer)"
      ]
    },
    {
      "cell_type": "code",
      "execution_count": null,
      "id": "55986b18",
      "metadata": {
        "id": "55986b18"
      },
      "outputs": [],
      "source": [
        "# Reinstantiate the trainer for evaluation\n",
        "trainer = Trainer(\n",
        "    model=model,\n",
        "    args=training_args,\n",
        "    train_dataset=train_dataset,\n",
        "    eval_dataset=eval_dataset,\n",
        "    tokenizer=tokenizer,\n",
        "    data_collator=data_collator,\n",
        "    compute_metrics=compute_metrics,\n",
        ")"
      ]
    },
    {
      "cell_type": "code",
      "execution_count": null,
      "id": "643892d7",
      "metadata": {
        "id": "643892d7"
      },
      "outputs": [],
      "source": [
        "# Launch the final evaluation\n",
        "trainer.evaluate()"
      ]
    },
    {
      "cell_type": "code",
      "execution_count": null,
      "id": "1b2a93db",
      "metadata": {
        "id": "1b2a93db"
      },
      "outputs": [],
      "source": []
    },
    {
      "cell_type": "code",
      "execution_count": null,
      "id": "b93a6a86",
      "metadata": {
        "id": "b93a6a86"
      },
      "outputs": [],
      "source": []
    },
    {
      "cell_type": "code",
      "execution_count": null,
      "id": "5c2a2300",
      "metadata": {
        "id": "5c2a2300"
      },
      "outputs": [],
      "source": []
    },
    {
      "cell_type": "code",
      "execution_count": null,
      "id": "13d18e23",
      "metadata": {
        "id": "13d18e23"
      },
      "outputs": [],
      "source": []
    }
  ],
  "metadata": {
    "kernelspec": {
      "display_name": "Python 3",
      "language": "python",
      "name": "python3"
    },
    "language_info": {
      "codemirror_mode": {
        "name": "ipython",
        "version": 3
      },
      "file_extension": ".py",
      "mimetype": "text/x-python",
      "name": "python",
      "nbconvert_exporter": "python",
      "pygments_lexer": "ipython3",
      "version": "3.8.8"
    },
    "colab": {
      "provenance": [],
      "include_colab_link": true
    }
  },
  "nbformat": 4,
  "nbformat_minor": 5
}